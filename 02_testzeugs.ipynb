{
 "cells": [
  {
   "cell_type": "code",
   "execution_count": null,
   "id": "123c53ef",
   "metadata": {},
   "outputs": [],
   "source": []
  },
  {
   "cell_type": "code",
   "execution_count": 15,
   "id": "c761acc7",
   "metadata": {},
   "outputs": [],
   "source": [
    "import pandas as pd\n",
    "import pickle\n",
    "import seaborn as sns"
   ]
  },
  {
   "cell_type": "markdown",
   "id": "6f0b9f90",
   "metadata": {},
   "source": [
    "## available pickles"
   ]
  },
  {
   "cell_type": "code",
   "execution_count": 3,
   "id": "b742b170",
   "metadata": {},
   "outputs": [
    {
     "name": "stdout",
     "output_type": "stream",
     "text": [
      "results_2022_M_1_100.pickle  results_2022_M_1_2.pickle\r\n"
     ]
    }
   ],
   "source": [
    "%ls data"
   ]
  },
  {
   "cell_type": "markdown",
   "id": "dc8c9f37",
   "metadata": {},
   "source": [
    "## get delicious pickles"
   ]
  },
  {
   "cell_type": "code",
   "execution_count": 13,
   "id": "993d414c",
   "metadata": {},
   "outputs": [
    {
     "data": {
      "text/plain": [
       "(100, 10)"
      ]
     },
     "execution_count": 13,
     "metadata": {},
     "output_type": "execute_result"
    }
   ],
   "source": [
    "with open('data/results_2022_M_1_100.pickle', 'rb') as f:\n",
    "    df = pickle.load(f)\n",
    "\n",
    "df.shape\n",
    "\n"
   ]
  },
  {
   "cell_type": "markdown",
   "id": "b275b04f",
   "metadata": {},
   "source": [
    "## Analysis"
   ]
  },
  {
   "cell_type": "code",
   "execution_count": 14,
   "id": "276234d0",
   "metadata": {},
   "outputs": [
    {
     "data": {
      "text/html": [
       "<div>\n",
       "<style scoped>\n",
       "    .dataframe tbody tr th:only-of-type {\n",
       "        vertical-align: middle;\n",
       "    }\n",
       "\n",
       "    .dataframe tbody tr th {\n",
       "        vertical-align: top;\n",
       "    }\n",
       "\n",
       "    .dataframe thead th {\n",
       "        text-align: right;\n",
       "    }\n",
       "</style>\n",
       "<table border=\"1\" class=\"dataframe\">\n",
       "  <thead>\n",
       "    <tr style=\"text-align: right;\">\n",
       "      <th></th>\n",
       "      <th>Bib</th>\n",
       "      <th>Group</th>\n",
       "      <th>Name</th>\n",
       "      <th>Nation</th>\n",
       "      <th>Sex</th>\n",
       "      <th>Place</th>\n",
       "      <th>StartGroup</th>\n",
       "      <th>Time</th>\n",
       "      <th>Place_cat</th>\n",
       "      <th>Year</th>\n",
       "    </tr>\n",
       "  </thead>\n",
       "  <tbody>\n",
       "    <tr>\n",
       "      <th>0</th>\n",
       "      <td>M15</td>\n",
       "      <td>H21</td>\n",
       "      <td>Nygaard, Andreas</td>\n",
       "      <td>NOR</td>\n",
       "      <td>M</td>\n",
       "      <td>1</td>\n",
       "      <td>VL0</td>\n",
       "      <td>03:32:18</td>\n",
       "      <td>1</td>\n",
       "      <td>2022</td>\n",
       "    </tr>\n",
       "    <tr>\n",
       "      <th>1</th>\n",
       "      <td>M4</td>\n",
       "      <td>H21</td>\n",
       "      <td>Persson, Emil</td>\n",
       "      <td>SWE</td>\n",
       "      <td>M</td>\n",
       "      <td>2</td>\n",
       "      <td>VL0</td>\n",
       "      <td>03:32:19</td>\n",
       "      <td>2</td>\n",
       "      <td>2022</td>\n",
       "    </tr>\n",
       "    <tr>\n",
       "      <th>2</th>\n",
       "      <td>M49</td>\n",
       "      <td>H21</td>\n",
       "      <td>Jutterström, Axel</td>\n",
       "      <td>SWE</td>\n",
       "      <td>M</td>\n",
       "      <td>3</td>\n",
       "      <td>VL0</td>\n",
       "      <td>03:32:20</td>\n",
       "      <td>3</td>\n",
       "      <td>2022</td>\n",
       "    </tr>\n",
       "    <tr>\n",
       "      <th>3</th>\n",
       "      <td>M29</td>\n",
       "      <td>H21</td>\n",
       "      <td>Stadaas, Kasper</td>\n",
       "      <td>NOR</td>\n",
       "      <td>M</td>\n",
       "      <td>4</td>\n",
       "      <td>VL0</td>\n",
       "      <td>03:32:21</td>\n",
       "      <td>4</td>\n",
       "      <td>2022</td>\n",
       "    </tr>\n",
       "    <tr>\n",
       "      <th>4</th>\n",
       "      <td>M32</td>\n",
       "      <td>H21</td>\n",
       "      <td>Thele, Joar Andreas</td>\n",
       "      <td>NOR</td>\n",
       "      <td>M</td>\n",
       "      <td>5</td>\n",
       "      <td>VL0</td>\n",
       "      <td>03:32:21</td>\n",
       "      <td>5</td>\n",
       "      <td>2022</td>\n",
       "    </tr>\n",
       "    <tr>\n",
       "      <th>...</th>\n",
       "      <td>...</td>\n",
       "      <td>...</td>\n",
       "      <td>...</td>\n",
       "      <td>...</td>\n",
       "      <td>...</td>\n",
       "      <td>...</td>\n",
       "      <td>...</td>\n",
       "      <td>...</td>\n",
       "      <td>...</td>\n",
       "      <td>...</td>\n",
       "    </tr>\n",
       "    <tr>\n",
       "      <th>95</th>\n",
       "      <td>M115</td>\n",
       "      <td>H21</td>\n",
       "      <td>Andersson, Elias</td>\n",
       "      <td>SWE</td>\n",
       "      <td>M</td>\n",
       "      <td>97</td>\n",
       "      <td>VL0</td>\n",
       "      <td>03:52:33</td>\n",
       "      <td>96</td>\n",
       "      <td>2022</td>\n",
       "    </tr>\n",
       "    <tr>\n",
       "      <th>96</th>\n",
       "      <td>M337</td>\n",
       "      <td>H21</td>\n",
       "      <td>Foyn, Christian Berge</td>\n",
       "      <td>NOR</td>\n",
       "      <td>M</td>\n",
       "      <td>98</td>\n",
       "      <td>VL0</td>\n",
       "      <td>03:52:35</td>\n",
       "      <td>97</td>\n",
       "      <td>2022</td>\n",
       "    </tr>\n",
       "    <tr>\n",
       "      <th>97</th>\n",
       "      <td>M83</td>\n",
       "      <td>H21</td>\n",
       "      <td>Lorenzi, Christian</td>\n",
       "      <td>ITA</td>\n",
       "      <td>M</td>\n",
       "      <td>99</td>\n",
       "      <td>VL0</td>\n",
       "      <td>03:52:48</td>\n",
       "      <td>98</td>\n",
       "      <td>2022</td>\n",
       "    </tr>\n",
       "    <tr>\n",
       "      <th>98</th>\n",
       "      <td>M151</td>\n",
       "      <td>H21</td>\n",
       "      <td>Räsänen, Veli-Matti</td>\n",
       "      <td>FIN</td>\n",
       "      <td>M</td>\n",
       "      <td>100</td>\n",
       "      <td>VL0</td>\n",
       "      <td>03:52:53</td>\n",
       "      <td>99</td>\n",
       "      <td>2022</td>\n",
       "    </tr>\n",
       "    <tr>\n",
       "      <th>99</th>\n",
       "      <td>M293</td>\n",
       "      <td>H21</td>\n",
       "      <td>Nygård Snellingen, Ola</td>\n",
       "      <td>NOR</td>\n",
       "      <td>M</td>\n",
       "      <td>102</td>\n",
       "      <td>VL0</td>\n",
       "      <td>03:53:07</td>\n",
       "      <td>100</td>\n",
       "      <td>2022</td>\n",
       "    </tr>\n",
       "  </tbody>\n",
       "</table>\n",
       "<p>100 rows × 10 columns</p>\n",
       "</div>"
      ],
      "text/plain": [
       "     Bib Group                    Name Nation Sex  Place StartGroup      Time  \\\n",
       "0    M15   H21        Nygaard, Andreas    NOR   M      1        VL0  03:32:18   \n",
       "1     M4   H21           Persson, Emil    SWE   M      2        VL0  03:32:19   \n",
       "2    M49   H21       Jutterström, Axel    SWE   M      3        VL0  03:32:20   \n",
       "3    M29   H21         Stadaas, Kasper    NOR   M      4        VL0  03:32:21   \n",
       "4    M32   H21     Thele, Joar Andreas    NOR   M      5        VL0  03:32:21   \n",
       "..   ...   ...                     ...    ...  ..    ...        ...       ...   \n",
       "95  M115   H21        Andersson, Elias    SWE   M     97        VL0  03:52:33   \n",
       "96  M337   H21   Foyn, Christian Berge    NOR   M     98        VL0  03:52:35   \n",
       "97   M83   H21      Lorenzi, Christian    ITA   M     99        VL0  03:52:48   \n",
       "98  M151   H21     Räsänen, Veli-Matti    FIN   M    100        VL0  03:52:53   \n",
       "99  M293   H21  Nygård Snellingen, Ola    NOR   M    102        VL0  03:53:07   \n",
       "\n",
       "    Place_cat  Year  \n",
       "0           1  2022  \n",
       "1           2  2022  \n",
       "2           3  2022  \n",
       "3           4  2022  \n",
       "4           5  2022  \n",
       "..        ...   ...  \n",
       "95         96  2022  \n",
       "96         97  2022  \n",
       "97         98  2022  \n",
       "98         99  2022  \n",
       "99        100  2022  \n",
       "\n",
       "[100 rows x 10 columns]"
      ]
     },
     "execution_count": 14,
     "metadata": {},
     "output_type": "execute_result"
    }
   ],
   "source": [
    "df"
   ]
  },
  {
   "cell_type": "markdown",
   "id": "8ac967da",
   "metadata": {},
   "source": []
  },
  {
   "cell_type": "code",
   "execution_count": 21,
   "id": "00c896a1",
   "metadata": {},
   "outputs": [
    {
     "data": {
      "text/plain": [
       "<seaborn.axisgrid.FacetGrid at 0x7ff530ed5190>"
      ]
     },
     "execution_count": 21,
     "metadata": {},
     "output_type": "execute_result"
    },
    {
     "data": {
      "image/png": "[encoded data removed]",
      "text/plain": [
       "<Figure size 360x360 with 1 Axes>"
      ]
     },
     "metadata": {},
     "output_type": "display_data"
    }
   ],
   "source": [
    "sns.set_style('darkgrid')\n",
    "sns.displot(df['Nation'])\n",
    "\n"
   ]
  },
  {
   "cell_type": "code",
   "execution_count": 29,
   "id": "dc775b44",
   "metadata": {},
   "outputs": [
    {
     "data": {
      "text/plain": [
       "<AxesSubplot:xlabel='Nation', ylabel='Count'>"
      ]
     },
     "execution_count": 29,
     "metadata": {},
     "output_type": "execute_result"
    },
    {
     "data": {
      "image/png": "[encoded data removed]",
      "text/plain": [
       "<Figure size 432x288 with 1 Axes>"
      ]
     },
     "metadata": {},
     "output_type": "display_data"
    }
   ],
   "source": [
    "sns.set_style('darkgrid')\n",
    "sns.histplot(df.iloc[1:30]['Nation'])\n",
    "\n"
   ]
  },
  {
   "cell_type": "code",
   "execution_count": null,
   "id": "c66e051c",
   "metadata": {},
   "outputs": [],
   "source": []
  }
 ],
 "metadata": {
  "kernelspec": {
   "display_name": "Python 3 (ipykernel)",
   "language": "python",
   "name": "python3"
  },
  "language_info": {
   "codemirror_mode": {
    "name": "ipython",
    "version": 3
   },
   "file_extension": ".py",
   "mimetype": "text/x-python",
   "name": "python",
   "nbconvert_exporter": "python",
   "pygments_lexer": "ipython3",
   "version": "3.10.4"
  }
 },
 "nbformat": 4,
 "nbformat_minor": 5
}
